{
 "cells": [
  {
   "cell_type": "markdown",
   "metadata": {},
   "source": [
    "---\n",
    "title: 'Лабораторна робота №7. Словники, кортежі. Обробка винятків (empty)'\n",
    "description:\n",
    "   Документ зроблено за допомогою [Quarto](https://quarto.org/)\n",
    "author: \"&copy; [<span style='color: blue;'>Valeriy Sydorenko </span>](https://www.linkedin.com/in/valeriy-sydorenko-6782279a/), 2023\"\n",
    "date: \"10.05.2023\"\n",
    "lang: ukr\n",
    "format:\n",
    "  html:\n",
    "    code-fold: true\n",
    "    toc: true # меню\n",
    "    toc_float: # спливаюче меню  \n",
    "      collapsed: true # авто\n",
    "      number_sections: true\n",
    "jupyter: python3\n",
    "---"
   ]
  },
  {
   "cell_type": "markdown",
   "metadata": {},
   "source": [
    "__Мета:__ _навчитися працювати зі структурами даних Кортеж та Словник. Навчитись обробляти основні типи винятків_"
   ]
  },
  {
   "cell_type": "markdown",
   "metadata": {},
   "source": [
    "::: callout-note\n",
    "## Примітка\n",
    "Попередньо потрібно опрацювати лекцію 7.\n",
    ":::"
   ]
  },
  {
   "cell_type": "markdown",
   "metadata": {},
   "source": [
    "::: callout-note\n",
    "## Примітка\n",
    "У лабораторній роботі використано матеріали [python institute.](https://pythoninstitute.org/pcep) \n",
    ":::"
   ]
  },
  {
   "cell_type": "markdown",
   "metadata": {
    "tags": []
   },
   "source": [
    "## Що ви будете вміти?\n",
    "* створювати та обробляти кортежі (`tuple`).\n",
    "* створювати і обробляти словники (`dict`).\n",
    "* сумісно викростовувати словники і кортежі\n",
    "* обробляти основні типи винятків."
   ]
  },
  {
   "cell_type": "markdown",
   "metadata": {},
   "source": [
    "## Робота зі словниками"
   ]
  },
  {
   "cell_type": "markdown",
   "metadata": {},
   "source": [
    "### Приклад 1\n",
    "\n",
    "Створіть кортеж, який містить інформацію про результати іспитів з трьох предметів для студента (наприклад, математика, фізика та хімія). Виведіть на екран середній бал та максимальний бал."
   ]
  },
  {
   "cell_type": "code",
   "execution_count": 36,
   "metadata": {},
   "outputs": [
    {
     "name": "stdout",
     "output_type": "stream",
     "text": [
      "Середній бал: 81.66666666666667\n",
      "Максимальний бал: 90\n"
     ]
    }
   ],
   "source": [
    "# results = (80, 75, 90)\n",
    "\n",
    "average_score = sum(results) / len(results)\n",
    "max_score = max(results)\n",
    "\n",
    "print(f\"Середній бал: {average_score}\")\n",
    "print(f\"Максимальний бал: {max_score}\")"
   ]
  },
  {
   "cell_type": "markdown",
   "metadata": {},
   "source": [
    "У цьому коді ми створюємо кортеж `results`, який містить оцінки студента з трьох предметів. Потім ми обчислюємо середній бал, використовуючи вбудовані функції `sum` та `len`, та максимальний бал, використовуючи вбудовану функцію `max`. Нарешті, ми виводимо ці значення на екран за допомогою функції `print`. Водночас ми продемонстрували один з варіантів форматованого виводу."
   ]
  },
  {
   "cell_type": "markdown",
   "metadata": {},
   "source": [
    "### Приклад 2 "
   ]
  },
  {
   "cell_type": "markdown",
   "metadata": {},
   "source": [
    "Створіть програму, яка буде обчислювати площу трикутника за трьома сторонами, які користувач введе з клавіатури. Збережіть введені користувачем значення за допомогою кортежів та виведіть їх на екран."
   ]
  },
  {
   "cell_type": "code",
   "execution_count": 37,
   "metadata": {},
   "outputs": [
    {
     "name": "stdin",
     "output_type": "stream",
     "text": [
      "Введіть довжину першої сторони трикутника:  1\n",
      "Введіть довжину другої сторони трикутника:  2\n",
      "Введіть довжину третьої сторони трикутника:  3\n"
     ]
    },
    {
     "name": "stdout",
     "output_type": "stream",
     "text": [
      "Довжина сторін трикутника: (1.0, 2.0, 3.0)\n",
      "Площа трикутника: 0.0\n"
     ]
    }
   ],
   "source": [
    "a = float(input(\"Введіть довжину першої сторони трикутника: \"))\n",
    "b = float(input(\"Введіть довжину другої сторони трикутника: \"))\n",
    "c = float(input(\"Введіть довжину третьої сторони трикутника: \"))\n",
    "\n",
    "# обчислюємо півпериметр\n",
    "p = (a + b + c) / 2\n",
    "\n",
    "# обчислюємо площу трикутника за формулою Герона\n",
    "area = (p * (p - a) * (p - b) * (p - c)) ** 0.5\n",
    "\n",
    "# зберігаємо введені користувачем значення у кортеж\n",
    "triangle_sides = (a, b, c)\n",
    "\n",
    "# виводимо на екран введені користувачем значення та площу трикутника\n",
    "print(f\"Довжина сторін трикутника: {triangle_sides}\")\n",
    "print(f\"Площа трикутника: {area}\")\n"
   ]
  },
  {
   "cell_type": "markdown",
   "metadata": {},
   "source": [
    "У цьому прикладі ми використовуємо кортеж `triangle_sides`, щоб зберегти довжини трьох сторін трикутника, які введені користувачем з клавіатури. "
   ]
  },
  {
   "cell_type": "markdown",
   "metadata": {},
   "source": [
    "### Приклад 3 "
   ]
  },
  {
   "cell_type": "markdown",
   "metadata": {},
   "source": [
    "Напишіть програму, яка змінює порядок елементів у кортежі. Користувач повинен ввести кортеж, а програма повинна вивести його елементи у зворотному порядку."
   ]
  },
  {
   "cell_type": "code",
   "execution_count": 38,
   "metadata": {},
   "outputs": [
    {
     "name": "stdin",
     "output_type": "stream",
     "text": [
      "Введіть елементи кортежу, розділені комою:  1, 2, 3, 4, 5\n"
     ]
    },
    {
     "name": "stdout",
     "output_type": "stream",
     "text": [
      "Зворотний порядок елементів кортежу: (' 5', ' 4', ' 3', ' 2', '1')\n"
     ]
    }
   ],
   "source": [
    "t = tuple(input(\"Введіть елементи кортежу, розділені комою: \").split(','))\n",
    "\n",
    "# змінюємо порядок елементів у кортежі\n",
    "reversed_t = t[::-1]\n",
    "\n",
    "# виводимо зворотний порядок елементів на екран\n",
    "print(f\"Зворотний порядок елементів кортежу: {reversed_t}\")"
   ]
  },
  {
   "cell_type": "markdown",
   "metadata": {},
   "source": [
    "У цьому прикладі ми використовуємо оператор зрізу `[::]`, щоб змінити порядок елементів у кортежі `t` на зворотний порядок. Потім ми виводимо на екран зворотний порядок елементів у новому кортежі `reversed_t`.\n",
    "\n",
    "Наприклад, якщо користувач введе `\"1,2,3,4,5\"`, програма виведе на екран: \"Зворотний порядок елементів кортежу: `('5', '4', '3', '2', '1')`."
   ]
  },
  {
   "cell_type": "markdown",
   "metadata": {},
   "source": [
    "### Завдання 1"
   ]
  },
  {
   "cell_type": "markdown",
   "metadata": {},
   "source": [
    "Напишіть програму, яка створює кортеж зі списку чисел, а потім виводить на екран всі числа, які менші за задане число `n`. Умова: користувач вводить число `n`, і   щоб створити новий список `result`, який містить всі числа з кортежу, які менші за `n`, реалізувати за допомогою генератора списків."
   ]
  },
  {
   "cell_type": "code",
   "execution_count": 31,
   "metadata": {},
   "outputs": [],
   "source": [
    "# Введення числа n від користувача\n",
    "n = int(input(\"Введіть число n: \"))\n",
    "\n",
    "# Створення кортежу зі списку чисел (можливо, у вас буде свій список)\n",
    "numbers = (1, 4, 7, 10, 15, 20, 25)\n",
    "\n",
    "# Використання генератора списків для створення списку result з числами меншими за n\n",
    "result = [x for x in numbers if x < n]\n",
    "\n",
    "# Виведення списку result на екран\n",
    "print(\"Числа менші за\", n, \":\", result)"
   ]
  },
  {
   "cell_type": "markdown",
   "metadata": {},
   "source": [
    "### Завдання 2\n",
    "Напишіть програму, яка створює кортеж з трьох елементів, які є рядками, та з'єднує їх в один рядок з комою як роздільником. Примітка: з'єднати рядки також можна за допомогою методу `.joint()`"
   ]
  },
  {
   "cell_type": "code",
   "execution_count": 32,
   "metadata": {},
   "outputs": [],
   "source": [
    "# Створення кортежу з трьох рядків\n",
    "tuple_of_strings = (\"Рядок 1\", \"Рядок 2\", \"Рядок 3\")\n",
    "\n",
    "# З'єднання рядків в один рядок з комою як роздільником за допомогою методу .join()\n",
    "result_string = ', '.join(tuple_of_strings)\n",
    "\n",
    "# Виведення отриманого рядка на екран\n",
    "print(result_string)"
   ]
  },
  {
   "cell_type": "markdown",
   "metadata": {},
   "source": [
    "### Завдання 3 "
   ]
  },
  {
   "cell_type": "markdown",
   "metadata": {},
   "source": [
    "Створіть словник, який містить інформацію про книги в бібліотеці. Ключами будуть назви книг, а значеннями - автори, рік видання та кількість сторінок. Виведіть на екран інформацію про книгу, введену користувачем."
   ]
  },
  {
   "cell_type": "code",
   "execution_count": 33,
   "metadata": {},
   "outputs": [],
   "source": [
    "# Створення словника із інформацією про книги в бібліотеці\n",
    "ibrary = {\n",
    "    \"Книга 1\": {\"Автор\": \"Автор 1\", \"Рік видання\": 2020, \"Кількість сторінок\": 300},\n",
    "    \"Книга 2\": {\"Автор\": \"Автор 2\", \"Рік видання\": 2019, \"Кількість сторінок\": 250},\n",
    "    \"Книга 3\": {\"Автор\": \"Автор 3\", \"Рік видання\": 2021, \"Кількість сторінок\": 400},\n",
    "    # Додайте інші книги за потреби\n",
    "    }\n",
    "\n",
    "# Запит користувача про назву книги\n",
    "book_title = input(\"Введіть назву книги: \")\n",
    "\n",
    "# Перевірка, чи така книга є в бібліотеці\n",
    "if book_title in library:\n",
    "    book_info = library[book_title]\n",
    "    print(f\"Інформація про книгу '{book_title}':\")\n",
    "    print(f\"Автор: {book_info['Автор']}\")\n",
    "    print(f\"Рік видання: {book_info['Рік видання']}\")\n",
    "    print(f\"Кількість сторінок: {book_info['Кількість сторінок']}\")\n",
    "else:\n",
    "    print(f\"Книга '{book_title}' не знайдена в бібліотеці.\")"
   ]
  },
  {
   "cell_type": "markdown",
   "metadata": {},
   "source": [
    "## Сумісна робота зі словниками і кортежами"
   ]
  },
  {
   "cell_type": "markdown",
   "metadata": {},
   "source": [
    "### Приклад 1"
   ]
  },
  {
   "cell_type": "markdown",
   "metadata": {},
   "source": [
    "Написати програму, яка веде облік студентів групи, забезпечуючи можливість зберігати ім'я і прізвище студента та його оцінки, і виводить середній бал по предметах."
   ]
  },
  {
   "cell_type": "code",
   "execution_count": 22,
   "metadata": {},
   "outputs": [],
   "source": [
    "# school_class = {}\n",
    "\n",
    "# while True:\n",
    "#     name = input(\"Enter the student's name: \")\n",
    "#     if name == '':\n",
    "#         break\n",
    "    \n",
    "#     score = int(input(\"Enter the student's score (0-10): \"))\n",
    "#     if score not in range(0, 11):\n",
    "# \t    break\n",
    "    \n",
    "#     if name in school_class:\n",
    "#         school_class[name] += (score,)\n",
    "#     else:\n",
    "#         school_class[name] = (score,)\n",
    "        \n",
    "# for name in sorted(school_class.keys()):\n",
    "#     adding = 0\n",
    "#     counter = 0\n",
    "#     for score in school_class[name]:\n",
    "#         adding += score\n",
    "#         counter += 1\n",
    "#     print(name, \":\", adding / counter)"
   ]
  },
  {
   "cell_type": "markdown",
   "metadata": {},
   "source": [
    "### Завдання 4"
   ]
  },
  {
   "cell_type": "markdown",
   "metadata": {},
   "source": [
    "Напишіть програму, яка створює словник, що містить інформацію про студентів, використовуючи вказані кортежі в якості значень. Кожен ключ -- це прізвище студента. Виведіть на екран інформацію про студента, введеного користувачем."
   ]
  },
  {
   "cell_type": "code",
   "execution_count": 34,
   "metadata": {},
   "outputs": [],
   "source": [
    "# Функція для виведення інформації про студента\n",
    "def print_student_info(student_dict, surname):\n",
    "    if surname in student_dict:\n",
    "        info = student_dict[surname]\n",
    "        print(f\"Інформація про студента {surname}:\")\n",
    "        print(f\"Ім'я: {info[0]}\")\n",
    "        print(f\"Вік: {info[1]}\")\n",
    "        print(f\"Спеціальність: {info[2]}\")\n",
    "    else:\n",
    "        print(f\"Студент з прізвищем {surname} не знайдений.\")\n",
    "\n",
    "# Створення словника з інформацією про студентів\n",
    "students = {\n",
    "    \"Іваненко\": (\"Іван\", 20, \"Інформатика\"),\n",
    "    \"Петренко\": (\"Петро\", 19, \"Математика\"),\n",
    "    \"Сидоренко\": (\"Сидір\", 21, \"Фізика\")\n",
    "}\n",
    "\n",
    "# Запит на введення прізвища студента\n",
    "surname = input(\"Введіть прізвище студента: \")\n",
    "print_student_info(students, surname)\n"
   ]
  },
  {
   "cell_type": "markdown",
   "metadata": {},
   "source": [
    "### Завдання 5"
   ]
  },
  {
   "cell_type": "markdown",
   "metadata": {},
   "source": [
    "Створіть словник, який містить інформацію про більше, ніж один номер телефону для кожного з контактів в телефонній книзі. Ключами будуть імена контактів, а значеннями - список їхніх номерів телефонів. Напишіть функцію, яка дозволяє додати новий номер телефону до списку номерів телефону певного контакту. Потім виведіть на екран список номерів телефонів для всіх контактів."
   ]
  },
  {
   "cell_type": "code",
   "execution_count": 35,
   "metadata": {},
   "outputs": [],
   "source": [
    "def add_phone_number(phone_book, name, phone_number):\n",
    "    \"\"\"\n",
    "    Додає новий номер телефону до списку номерів телефону для вказаного контакту.\n",
    "    Якщо контакт ще не існує, створює новий запис.\n",
    "\n",
    "    :param phone_book: Словник телефонної книги.\n",
    "    :param name: Ім'я контакту.\n",
    "    :param phone_number: Новий номер телефону.\n",
    "    \"\"\"\n",
    "    if name in phone_book:\n",
    "        phone_book[name].append(phone_number)\n",
    "    else:\n",
    "        phone_book[name] = [phone_number]\n",
    "\n",
    "# Створення первинного словника телефонної книги\n",
    "phone_book = {\n",
    "    \"Іван\": [\"+380631234567\"],\n",
    "    \"Олена\": [\"+380671234567\", \"+380931234567\"]\n",
    "}\n",
    "\n",
    "# Додавання нових номерів телефонів\n",
    "add_phone_number(phone_book, \"Іван\", \"+380501234567\")\n",
    "add_phone_number(phone_book, \"Марія\", \"+380951234567\")\n",
    "\n",
    "# Вивід на екран списку номерів телефонів для всіх контактів\n",
    "for name, numbers in phone_book.items():\n",
    "    print(f\"Контакт {name}: {', '.join(numbers)}\")\n"
   ]
  },
  {
   "cell_type": "markdown",
   "metadata": {},
   "source": [
    "## Завдання для самостіної роботи\n",
    "\n",
    "1. Виконати завдання 1-5 наведені вище у цьому зошиті.\n",
    "\n",
    "1. Створити файл __lab_7_StudentLastName.py__ з написаним кодом. \n",
    "\n",
    "1. Закомітити файл у локальний репозиторій.\n",
    "\n",
    "1. Відправити (\"запушити\") поточну версію Git-проєкта у віддалений репозиторій на GitHub.\n",
    "\n",
    "1. Звіт має складатися з файлу (за основу взяти __цей Python-зошит__)  `lab_7_StudentLastName.ipynb`. (Можливі якісь додакові файли)"
   ]
  },
  {
   "cell_type": "markdown",
   "metadata": {},
   "source": [
    "## Контрольні запитання\n",
    "\n",
    "1. Що виведе наступний код?\n",
    "\n",
    "```\n",
    "my_tuple = (1, 2, 3)\n",
    "print(my_tuple[1:])\n",
    "```\n",
    "2, 3\n",
    "\n",
    "2. Що виведе наступний код?\n",
    "```\n",
    "my_dict = {'a': 1, 'b': 2, 'c': 3}\n",
    "print(my_dict.get('d', 4))\n",
    "```\n",
    "4\n",
    "\n",
    "3. Що виведе наступний код?\n",
    "```\n",
    "my_tuple = (1, 2, 3)\n",
    "my_tuple[0] = 4\n",
    "print(my_tuple)\n",
    "```\n",
    "ошибка\n",
    "\n",
    "4. Що виведе наступний код?\n",
    "```\n",
    "my_dict = {'a': 1, 'b': 2, 'c': 3}\n",
    "my_dict.update({'d': 4})\n",
    "print(my_dict)\n",
    "```\n",
    "'a': 1, 'b': 2, 'c': 3, 'd': 4\n"
   ]
  },
  {
   "cell_type": "markdown",
   "metadata": {},
   "source": [
    "## References"
   ]
  },
  {
   "cell_type": "markdown",
   "metadata": {},
   "source": [
    "1. [Anaconda (Python distribution)](https://uk.wikipedia.org/wiki/Anaconda_(Python_distribution))\n",
    "2. [Conda](https://conda.io/en/latest/)\n",
    "3. [Pro Git Book](https://git-scm.com/book/en/v2)\n",
    "4. [OpenEDG Python Institute](https://pythoninstitute.org/)\n",
    "5. [Cisco. Networking Academy](https://www.netacad.com/)\n",
    "6. [Научно-издательская система Quarto](https://data-visualization-blog.netlify.app/posts/quarto/)"
   ]
  }
 ],
 "metadata": {
  "kernelspec": {
   "display_name": "Python 3 (ipykernel)",
   "language": "python",
   "name": "python3"
  },
  "language_info": {
   "codemirror_mode": {
    "name": "ipython",
    "version": 3
   },
   "file_extension": ".py",
   "mimetype": "text/x-python",
   "name": "python",
   "nbconvert_exporter": "python",
   "pygments_lexer": "ipython3",
   "version": "3.10.12"
  }
 },
 "nbformat": 4,
 "nbformat_minor": 4
}
